{
  "cells": [
    {
      "cell_type": "markdown",
      "metadata": {
        "id": "view-in-github",
        "colab_type": "text"
      },
      "source": [
        "<a href=\"https://colab.research.google.com/github/invest41/CellScan/blob/main/Malaria_Diagnosis.ipynb\" target=\"_parent\"><img src=\"https://colab.research.google.com/assets/colab-badge.svg\" alt=\"Open In Colab\"/></a>"
      ]
    },
    {
      "cell_type": "markdown",
      "metadata": {
        "id": "wmlG179lQcp0"
      },
      "source": [
        "<h1><center><strong>CellScan</strong></center></h1>"
      ],
      "id": "wmlG179lQcp0"
    },
    {
      "cell_type": "markdown",
      "metadata": {
        "id": "H4Ql8BPZTUPE"
      },
      "source": [
        "|||\n",
        "|:--|:--|\n",
        "|<img height=300 width=500 src=\"https://www.thecitizen.co.tz/resource/image/2692740/landscape_ratio16x9/1160/652/b4046770a3577a00b66fd99687e4d0e4/IX/pic-malaria.jpg\"/>|<img height=300 width=500 src=\"https://media.sciencephoto.com/image/f0277662/800wm/F0277662-Protozoan_Plasmodium_falciparum_in_the_stage_of_ring_form_tr.jpg\"/>|"
      ],
      "id": "H4Ql8BPZTUPE"
    },
    {
      "cell_type": "markdown",
      "metadata": {
        "id": "JgEgY5iWQl2R"
      },
      "source": [
        "### **Introduction**\n",
        "CellScan - A screening tool leveraging on a brilliant deep learning backed system of algorithms, that would accurately detect malaria parasites from cell images, giving results at an incredible speed! \n",
        "\n",
        "The deep learning algorithm studies critically, thousands of images and is able to learn patterns (weights) that exist in these samples via Supervised Learning through Convolutional Neural Networks (CNN), so that it can accurately predict the presence of Malaria parasites in an image, and hence save lives.\n",
        "\n",
        "We are combining our unique AI technology with Blockchain technology, to aid with a distributed and secure architecture, that promotes authenticity and integration of the Lab datasets processed by our AI technology."
      ],
      "id": "JgEgY5iWQl2R"
    },
    {
      "cell_type": "markdown",
      "metadata": {
        "id": "NHwR5gtrUX8A"
      },
      "source": [
        "### **Setting the environment**"
      ],
      "id": "NHwR5gtrUX8A"
    },
    {
      "cell_type": "code",
      "execution_count": 1,
      "metadata": {
        "id": "f5eb9fd6-68a5-491e-8fb7-c3ccea021a9c"
      },
      "outputs": [],
      "source": [
        "import os, time, random\n",
        "import numpy as np, matplotlib.pyplot as plt, pandas as pd, seaborn as sns\n",
        "import cv2\n",
        "from PIL import Image\n",
        "\n",
        "import tensorflow as tf\n",
        "from tensorflow import keras\n",
        "from tensorflow.keras.models import Sequential\n",
        "from tensorflow.keras.layers import Dense, Conv2D, MaxPooling2D, Dense, Flatten, Dropout, Activation\n",
        "\n",
        "from tensorflow.keras.applications import MobileNetV2\n",
        "from tensorflow.keras.applications.vgg19 import VGG19\n",
        "from tensorflow.keras.preprocessing.image import load_img, img_to_array, ImageDataGenerator\n",
        "from tensorflow.keras.callbacks import EarlyStopping\n",
        "\n",
        "\n",
        "\n",
        "from sklearn.datasets import make_circles\n",
        "from sklearn.metrics import accuracy_score, precision_score, recall_score, f1_score\n",
        "from sklearn.metrics import cohen_kappa_score, roc_auc_score, confusion_matrix, classification_report"
      ],
      "id": "f5eb9fd6-68a5-491e-8fb7-c3ccea021a9c"
    },
    {
      "cell_type": "code",
      "execution_count": 2,
      "metadata": {
        "id": "_luom94zdpyo"
      },
      "outputs": [],
      "source": [
        "sns.set_theme()"
      ],
      "id": "_luom94zdpyo"
    },
    {
      "cell_type": "markdown",
      "metadata": {
        "id": "99uOK6BkfJ97"
      },
      "source": [
        "### **Exploratory Data Analysis**"
      ],
      "id": "99uOK6BkfJ97"
    },
    {
      "cell_type": "code",
      "execution_count": 5,
      "metadata": {
        "id": "qPpqw66m9cOM",
        "colab": {
          "base_uri": "https://localhost:8080/"
        },
        "outputId": "f4d93b37-c53e-44b2-a971-4604768685ea"
      },
      "outputs": [
        {
          "output_type": "stream",
          "name": "stdout",
          "text": [
            "patool: Extracting /content/drive/MyDrive/CellScan/Parasitized/Parasitized.rar ...\n",
            "patool: running /usr/bin/unrar x -- /content/drive/MyDrive/CellScan/Parasitized/Parasitized.rar\n",
            "patool:     with cwd='/content/'\n",
            "patool: ... /content/drive/MyDrive/CellScan/Parasitized/Parasitized.rar extracted to `/content/'.\n",
            "patool: Extracting /content/drive/MyDrive/CellScan/Uninfected/Uninfected.rar ...\n",
            "patool: running /usr/bin/unrar x -- /content/drive/MyDrive/CellScan/Uninfected/Uninfected.rar\n",
            "patool:     with cwd='/content/'\n",
            "patool: ... /content/drive/MyDrive/CellScan/Uninfected/Uninfected.rar extracted to `/content/'.\n"
          ]
        }
      ],
      "source": [
        "#Extraction process\n",
        "!pip install patool -U -q\n",
        "\n",
        "import patoolib\n",
        "for file_name in [\"/content/drive/MyDrive/CellScan/Parasitized/Parasitized.rar\", \"/content/drive/MyDrive/CellScan/Uninfected/Uninfected.rar\"]: \n",
        "  patoolib.extract_archive(file_name, outdir=\"/content/\")"
      ],
      "id": "qPpqw66m9cOM"
    },
    {
      "cell_type": "code",
      "execution_count": 6,
      "metadata": {
        "id": "7cc298e5-b6e2-46b2-94f6-c213adae4407"
      },
      "outputs": [],
      "source": [
        "#Access Dataset\n",
        "\n",
        "data, labels, full_data = [], [], []\n",
        "\n",
        "def arr_agg(tree, collector, id, labels = labels, data = data):\n",
        "  '''Aggregate all image arrays into a single collector\n",
        "  '''\n",
        "  files = os.listdir(tree)\n",
        "  for img in files:\n",
        "    try:\n",
        "        image=cv2.imread(tree + \"/\" + img)\n",
        "        image_from_array = Image.fromarray(image, 'RGB')\n",
        "        size_image = image_from_array.resize((50, 50))\n",
        "        \n",
        "        data.append(np.array(size_image))\n",
        "        labels.append(id)\n",
        "        \n",
        "        full_data.append([np.array(size_image), id]) #most important\n",
        "    \n",
        "    except AttributeError as ae:  pass #print(ae)"
      ],
      "id": "7cc298e5-b6e2-46b2-94f6-c213adae4407"
    },
    {
      "cell_type": "code",
      "execution_count": 7,
      "metadata": {
        "colab": {
          "base_uri": "https://localhost:8080/"
        },
        "id": "a76q0b_kIYhX",
        "outputId": "90af67d2-5ee2-46a1-fc28-9ff7d7d69404"
      },
      "outputs": [
        {
          "output_type": "stream",
          "name": "stdout",
          "text": [
            "Done!\n",
            "31.46 seconds...\n"
          ]
        }
      ],
      "source": [
        "tick = time.time()\n",
        "\n",
        "arr_agg(\"./Parasitized/\", full_data, 1)\n",
        "arr_agg(\"./Uninfected/\", full_data, 0)\n",
        "\n",
        "\n",
        "tock = time.time()\n",
        "print(f'Done!\\n{round((tock-tick),2)} seconds...')"
      ],
      "id": "a76q0b_kIYhX"
    },
    {
      "cell_type": "code",
      "execution_count": 8,
      "metadata": {
        "colab": {
          "base_uri": "https://localhost:8080/"
        },
        "id": "393da4e5-4e01-4493-bfb5-7d73ef6b43b9",
        "outputId": "95c797f6-9655-4fb8-b658-844456d872dd"
      },
      "outputs": [
        {
          "output_type": "execute_result",
          "data": {
            "text/plain": [
              "(27699,)"
            ]
          },
          "metadata": {},
          "execution_count": 8
        }
      ],
      "source": [
        "pd.Series(full_data).shape"
      ],
      "id": "393da4e5-4e01-4493-bfb5-7d73ef6b43b9"
    },
    {
      "cell_type": "code",
      "execution_count": 9,
      "metadata": {
        "colab": {
          "base_uri": "https://localhost:8080/"
        },
        "id": "cc9bf72f-d15b-4d0e-9688-d77cf85e8560",
        "outputId": "35a40a38-1422-4ea3-b348-dc2f2dce07b0"
      },
      "outputs": [
        {
          "output_type": "stream",
          "name": "stdout",
          "text": [
            "Counter({1: 14394, 0: 13305})\n"
          ]
        }
      ],
      "source": [
        "#Map binary class \n",
        "from collections import Counter\n",
        "\n",
        "c = Counter()\n",
        "for i,j in full_data: c[j] += 1\n",
        "print(c)"
      ],
      "id": "cc9bf72f-d15b-4d0e-9688-d77cf85e8560"
    },
    {
      "cell_type": "code",
      "execution_count": 10,
      "metadata": {
        "id": "ad8d6abb-be05-40ef-bde8-6a4179c9e926"
      },
      "outputs": [],
      "source": [
        "import numpy as np\n",
        "from itertools import chain\n",
        "\n",
        "def _indexing(x, indices):\n",
        "    \"\"\"\n",
        "    :param x: array from which indices has to be fetched\n",
        "    :param indices: indices to be fetched\n",
        "    :return: sub-array from given array and indices\n",
        "    \"\"\"\n",
        "    # np array indexing\n",
        "    if hasattr(x, 'shape'):\n",
        "        return x[indices]\n",
        "\n",
        "    # list indexing\n",
        "    return [x[idx] for idx in indices]\n",
        "\n",
        "\n",
        "\n",
        "def train_test_split(*arrays, test_size=0.25, shufffle=True, random_seed=1):\n",
        "    \"\"\"\n",
        "    splits array into train and test data.\n",
        "    :param arrays: arrays to split in train and test\n",
        "    :param test_size: size of test set in range (0,1)\n",
        "    :param shufffle: whether to shuffle arrays or not\n",
        "    :param random_seed: random seed value\n",
        "    :return: return 2*len(arrays) divided into train ans test\n",
        "    \"\"\"\n",
        "    # checks\n",
        "    assert 0 < test_size < 1\n",
        "    assert len(arrays) > 0\n",
        "    length = len(arrays[0])\n",
        "    for i in arrays:\n",
        "        assert len(i) == length\n",
        "\n",
        "    n_test = int(np.ceil(length*test_size))\n",
        "    n_train = length - n_test\n",
        "\n",
        "    if shufffle:\n",
        "        perm = np.random.RandomState(random_seed).permutation(length)\n",
        "        test_indices = perm[:n_test]\n",
        "        train_indices = perm[n_test:]\n",
        "    else:\n",
        "        train_indices = np.arange(n_train)\n",
        "        test_indices = np.arange(n_train, length)\n",
        "\n",
        "    return list(chain.from_iterable((_indexing(x, train_indices), _indexing(x, test_indices)) for x in arrays))"
      ],
      "id": "ad8d6abb-be05-40ef-bde8-6a4179c9e926"
    },
    {
      "cell_type": "code",
      "execution_count": 11,
      "metadata": {
        "id": "0ff8a0d4-7a59-4ecd-a292-a4daf3d72e65"
      },
      "outputs": [],
      "source": [
        "#Data split\n",
        "train_set, val_set = train_test_split(full_data, test_size = 0.20)"
      ],
      "id": "0ff8a0d4-7a59-4ecd-a292-a4daf3d72e65"
    },
    {
      "cell_type": "code",
      "execution_count": 12,
      "metadata": {
        "colab": {
          "base_uri": "https://localhost:8080/"
        },
        "id": "8345332d-3e77-43e0-8322-4a1466c7540c",
        "outputId": "c96d140b-b533-4a7c-d95a-6085006dff8b"
      },
      "outputs": [
        {
          "output_type": "execute_result",
          "data": {
            "text/plain": [
              "(dtype('O'), (22159,))"
            ]
          },
          "metadata": {},
          "execution_count": 12
        }
      ],
      "source": [
        "pd.Series(train_set).dtype, pd.Series(train_set).shape"
      ],
      "id": "8345332d-3e77-43e0-8322-4a1466c7540c"
    },
    {
      "cell_type": "code",
      "execution_count": 13,
      "metadata": {
        "colab": {
          "base_uri": "https://localhost:8080/"
        },
        "id": "aad4babd-6bbf-4398-9f2a-fba5888c2b87",
        "outputId": "fbc395a8-b590-487f-98e3-4c2147f85e15"
      },
      "outputs": [
        {
          "output_type": "stream",
          "name": "stdout",
          "text": [
            "Counter({1: 2955, 0: 2585})\n"
          ]
        }
      ],
      "source": [
        "from collections import Counter\n",
        "c=Counter()\n",
        "for i,j in val_set:\n",
        "   c[j] += 1\n",
        "print(c)"
      ],
      "id": "aad4babd-6bbf-4398-9f2a-fba5888c2b87"
    },
    {
      "cell_type": "code",
      "execution_count": 14,
      "metadata": {
        "id": "94846225-bcb2-4002-ad18-ff6d61d3ada5"
      },
      "outputs": [],
      "source": [
        "X_train = []\n",
        "y_train = []\n",
        "X_val = []\n",
        "y_val = []\n",
        "for tr in train_set:\n",
        "    X_trainn, y_trainn = tr\n",
        "    X_train.append(X_trainn)\n",
        "    y_train.append(y_trainn)\n",
        "\n",
        "for te in val_set:\n",
        "    X_vall, y_vall = te\n",
        "    X_val.append(X_vall)\n",
        "    y_val.append(y_vall)"
      ],
      "id": "94846225-bcb2-4002-ad18-ff6d61d3ada5"
    },
    {
      "cell_type": "code",
      "execution_count": 15,
      "metadata": {
        "colab": {
          "base_uri": "https://localhost:8080/"
        },
        "id": "cc77b59a-907b-45f3-805f-b0613207db87",
        "outputId": "af389656-473a-46ff-a535-aa24d21122c9"
      },
      "outputs": [
        {
          "output_type": "stream",
          "name": "stdout",
          "text": [
            "X_train = 22159  ,  X_test = 5540  ,  y_train = 22159  ,  y_test = 5540\n"
          ]
        }
      ],
      "source": [
        "print(\"X_train =\",len(X_train), \" , \",\n",
        "      \"X_test =\", len(X_val), \" , \",\n",
        "      \"y_train =\", len(y_train), \" , \",\n",
        "      \"y_test =\", len(y_val))"
      ],
      "id": "cc77b59a-907b-45f3-805f-b0613207db87"
    },
    {
      "cell_type": "code",
      "execution_count": 16,
      "metadata": {
        "id": "b0a11806-544f-4f03-94e8-07b7d4cd7eb9"
      },
      "outputs": [],
      "source": [
        "def plotImages(images_arr):\n",
        "    fig, axes = plt.subplots(1, 5, figsize=(20,20))\n",
        "    axes = axes.flatten()\n",
        "    for img, ax in zip(images_arr, axes):\n",
        "        ax.imshow(img)\n",
        "        ax.axis('off')\n",
        "    plt.tight_layout() \n",
        "    plt.show()"
      ],
      "id": "b0a11806-544f-4f03-94e8-07b7d4cd7eb9"
    },
    {
      "cell_type": "code",
      "execution_count": 17,
      "metadata": {
        "id": "c553a9cd-9899-44fb-9efe-0b4389549105"
      },
      "outputs": [],
      "source": [
        "#Randomly display images\n",
        "def plotImages(X):\n",
        "    '''Selects and displays images from our dataset at random\n",
        "    '''\n",
        "\n",
        "    #Selecting the random index\n",
        "    rand = random.choice(tf.range(0,len(X)))\n",
        "    rand2 = random.randint(0,len(X))\n",
        "    rand3 = random.randint(0,len(X))\n",
        "    \n",
        "    #Image Display\n",
        "    fig, ax = plt.subplots(1, 3, figsize=(16, 30))\n",
        "    \n",
        "    ax[0].imshow(X[rand])\n",
        "    ax[0].set_title(f\"Sample of cell histology - {X[rand].argmax()} \", weight = \"bold\", fontsize = 15)\n",
        "    ax[1].imshow(X[rand2])\n",
        "    ax[1].set_title(f\"Sample of cell histology - {X[rand2].argmax()}\", weight = \"bold\", fontsize = 15)\n",
        "    ax[2].imshow(X[rand3])\n",
        "    ax[2].set_title(f\"Sample of cell histology - {X[rand3].argmax()}\", weight = \"bold\", fontsize = 15)"
      ],
      "id": "c553a9cd-9899-44fb-9efe-0b4389549105"
    },
    {
      "cell_type": "code",
      "execution_count": 18,
      "metadata": {
        "colab": {
          "base_uri": "https://localhost:8080/",
          "height": 331
        },
        "id": "4ef18965-28db-49a4-819c-0157d62a5876",
        "outputId": "fe011fba-72f0-49b6-a78f-f17e7b626955"
      },
      "outputs": [
        {
          "output_type": "display_data",
          "data": {
            "text/plain": [
              "<Figure size 1152x2160 with 3 Axes>"
            ],
            "image/png": "[encoded data removed]"
          },
          "metadata": {}
        }
      ],
      "source": [
        "#Selects random images of cell histology and plots them\n",
        "random.seed(25)\n",
        "plotImages(X_train)"
      ],
      "id": "4ef18965-28db-49a4-819c-0157d62a5876"
    },
    {
      "cell_type": "code",
      "execution_count": 19,
      "metadata": {
        "id": "61f35e53-6e38-41d8-9981-f467d2f9764c"
      },
      "outputs": [],
      "source": [
        "#Normalize\n",
        "pixel = 255.0 # Max Value\n",
        "\n",
        "X_train = np.array(X_train, dtype=np.float32)/pixel\n",
        "X_val = np.array(X_val, dtype=np.float32)/pixel"
      ],
      "id": "61f35e53-6e38-41d8-9981-f467d2f9764c"
    },
    {
      "cell_type": "code",
      "execution_count": 20,
      "metadata": {
        "colab": {
          "base_uri": "https://localhost:8080/",
          "height": 300
        },
        "id": "tPOuVlT1dm35",
        "outputId": "69367cf2-745e-423e-fd4d-66e5e2c05fc9"
      },
      "outputs": [
        {
          "output_type": "execute_result",
          "data": {
            "text/plain": [
              "<matplotlib.axes._subplots.AxesSubplot at 0x7f20b0706310>"
            ]
          },
          "metadata": {},
          "execution_count": 20
        },
        {
          "output_type": "display_data",
          "data": {
            "text/plain": [
              "<Figure size 432x288 with 1 Axes>"
            ],
            "image/png": "[encoded data removed]"
          },
          "metadata": {}
        }
      ],
      "source": [
        "plt.title('Prediction Distribution - Balanced Dataset', weight = \"bold\", fontsize = 15)\n",
        "pd.Series(y_train).value_counts().plot.bar()"
      ],
      "id": "tPOuVlT1dm35"
    },
    {
      "cell_type": "code",
      "execution_count": 21,
      "metadata": {
        "id": "85a5b359-e429-4212-aa8c-a842e6b77582"
      },
      "outputs": [],
      "source": [
        "#Doing One hot encoding as classifier has multiple classes\n",
        "num_classes=len(np.unique(y_train))\n",
        "y_train=keras.utils.to_categorical(y_train,num_classes)\n",
        "y_val=keras.utils.to_categorical(y_val,num_classes)"
      ],
      "id": "85a5b359-e429-4212-aa8c-a842e6b77582"
    },
    {
      "cell_type": "code",
      "execution_count": 22,
      "metadata": {
        "id": "ff4e4694-ce5f-4f61-8d7d-fadc45126f55"
      },
      "outputs": [],
      "source": [
        "X_train = np.array(X_train)\n",
        "y_train = np.array(y_train)\n",
        "X_val = np.array(X_val)\n",
        "y_val = np.array(y_val)"
      ],
      "id": "ff4e4694-ce5f-4f61-8d7d-fadc45126f55"
    },
    {
      "cell_type": "code",
      "execution_count": 23,
      "metadata": {
        "colab": {
          "base_uri": "https://localhost:8080/"
        },
        "id": "8eae3200-3be7-40c6-a13c-2082f761dbc1",
        "outputId": "20680d2e-714b-4853-b17a-363a543cdcd8"
      },
      "outputs": [
        {
          "output_type": "execute_result",
          "data": {
            "text/plain": [
              "(22159, 50, 50, 3)"
            ]
          },
          "metadata": {},
          "execution_count": 23
        }
      ],
      "source": [
        "X_train.shape"
      ],
      "id": "8eae3200-3be7-40c6-a13c-2082f761dbc1"
    },
    {
      "cell_type": "code",
      "execution_count": 24,
      "metadata": {
        "colab": {
          "base_uri": "https://localhost:8080/"
        },
        "id": "bf78db3c-72e9-4b65-8c00-04e96398a21b",
        "outputId": "8edddf7f-1bac-4bd8-8656-87cff84b7d71"
      },
      "outputs": [
        {
          "output_type": "execute_result",
          "data": {
            "text/plain": [
              "(22159, 2)"
            ]
          },
          "metadata": {},
          "execution_count": 24
        }
      ],
      "source": [
        "y_train.shape"
      ],
      "id": "bf78db3c-72e9-4b65-8c00-04e96398a21b"
    },
    {
      "cell_type": "markdown",
      "source": [
        "### **Model Building**"
      ],
      "metadata": {
        "id": "x0k3PB9aUay-"
      },
      "id": "x0k3PB9aUay-"
    },
    {
      "cell_type": "code",
      "execution_count": 25,
      "metadata": {
        "colab": {
          "base_uri": "https://localhost:8080/"
        },
        "id": "8aa02bb5-8c77-4093-94ef-ed24e5ca8a85",
        "outputId": "7af843db-0521-443a-934e-7b7a3b2fdaed"
      },
      "outputs": [
        {
          "output_type": "stream",
          "name": "stdout",
          "text": [
            "Model: \"sequential\"\n",
            "_________________________________________________________________\n",
            " Layer (type)                Output Shape              Param #   \n",
            "=================================================================\n",
            " conv2d (Conv2D)             (None, 50, 50, 16)        208       \n",
            "                                                                 \n",
            " max_pooling2d (MaxPooling2D  (None, 25, 25, 16)       0         \n",
            " )                                                               \n",
            "                                                                 \n",
            " conv2d_1 (Conv2D)           (None, 25, 25, 32)        2080      \n",
            "                                                                 \n",
            " max_pooling2d_1 (MaxPooling  (None, 12, 12, 32)       0         \n",
            " 2D)                                                             \n",
            "                                                                 \n",
            " conv2d_2 (Conv2D)           (None, 12, 12, 64)        8256      \n",
            "                                                                 \n",
            " max_pooling2d_2 (MaxPooling  (None, 6, 6, 64)         0         \n",
            " 2D)                                                             \n",
            "                                                                 \n",
            " dropout (Dropout)           (None, 6, 6, 64)          0         \n",
            "                                                                 \n",
            " flatten (Flatten)           (None, 2304)              0         \n",
            "                                                                 \n",
            " dense (Dense)               (None, 500)               1152500   \n",
            "                                                                 \n",
            " dropout_1 (Dropout)         (None, 500)               0         \n",
            "                                                                 \n",
            " dense_1 (Dense)             (None, 2)                 1002      \n",
            "                                                                 \n",
            "=================================================================\n",
            "Total params: 1,164,046\n",
            "Trainable params: 1,164,046\n",
            "Non-trainable params: 0\n",
            "_________________________________________________________________\n"
          ]
        }
      ],
      "source": [
        "#Set Seed\n",
        "tf.random.set_seed(42)\n",
        "\n",
        "#Set callback - validation loss tracking\n",
        "callback = EarlyStopping(monitor='val_loss', patience=5)\n",
        "\n",
        "\n",
        "\n",
        "\n",
        "#creating sequential model\n",
        "model=Sequential()\n",
        "model.add(Conv2D(filters=16,kernel_size=2,padding=\"same\",activation=\"relu\",input_shape=(50,50,3)))\n",
        "model.add(MaxPooling2D(pool_size=2))\n",
        "model.add(Conv2D(filters=32,kernel_size=2,padding=\"same\",activation=\"relu\"))\n",
        "model.add(MaxPooling2D(pool_size=2))\n",
        "model.add(Conv2D(filters=64,kernel_size=2,padding=\"same\",activation=\"relu\"))\n",
        "model.add(MaxPooling2D(pool_size=2))\n",
        "model.add(Dropout(0.2))\n",
        "model.add(Flatten())\n",
        "model.add(Dense(500,activation=\"relu\"))\n",
        "model.add(Dropout(0.2))\n",
        "model.add(Dense(2,activation=\"softmax\")) #2 represent output layer neurons \n",
        "model.summary()"
      ],
      "id": "8aa02bb5-8c77-4093-94ef-ed24e5ca8a85"
    },
    {
      "cell_type": "code",
      "execution_count": 26,
      "metadata": {
        "id": "0fc9cdbb-45dc-49c1-8349-fc020a8a3b7d"
      },
      "outputs": [],
      "source": [
        "# compile the model with loss as categorical_crossentropy and using adam optimizer you can test result by trying RMSProp as well as Momentum\n",
        "model.compile(loss='categorical_crossentropy', optimizer='adam', metrics=['accuracy'])"
      ],
      "id": "0fc9cdbb-45dc-49c1-8349-fc020a8a3b7d"
    },
    {
      "cell_type": "code",
      "execution_count": 27,
      "metadata": {
        "colab": {
          "base_uri": "https://localhost:8080/"
        },
        "id": "aa65f536-d875-4d42-8a39-55dd3692e7e9",
        "outputId": "afa273f8-c643-48e0-8aa2-74acc0480dda"
      },
      "outputs": [
        {
          "output_type": "stream",
          "name": "stdout",
          "text": [
            "Epoch 1/50\n",
            "693/693 [==============================] - 21s 10ms/step - loss: 0.3535 - accuracy: 0.8336 - val_loss: 0.1475 - val_accuracy: 0.9487\n",
            "Epoch 2/50\n",
            "693/693 [==============================] - 6s 9ms/step - loss: 0.1415 - accuracy: 0.9511 - val_loss: 0.1347 - val_accuracy: 0.9565\n",
            "Epoch 3/50\n",
            "693/693 [==============================] - 4s 6ms/step - loss: 0.1236 - accuracy: 0.9582 - val_loss: 0.1164 - val_accuracy: 0.9608\n",
            "Epoch 4/50\n",
            "693/693 [==============================] - 3s 5ms/step - loss: 0.1128 - accuracy: 0.9620 - val_loss: 0.1137 - val_accuracy: 0.9625\n",
            "Epoch 5/50\n",
            "693/693 [==============================] - 3s 5ms/step - loss: 0.1060 - accuracy: 0.9625 - val_loss: 0.1106 - val_accuracy: 0.9637\n",
            "Epoch 6/50\n",
            "693/693 [==============================] - 4s 5ms/step - loss: 0.1011 - accuracy: 0.9639 - val_loss: 0.1143 - val_accuracy: 0.9621\n",
            "Epoch 7/50\n",
            "693/693 [==============================] - 3s 5ms/step - loss: 0.0970 - accuracy: 0.9645 - val_loss: 0.1069 - val_accuracy: 0.9628\n",
            "Epoch 8/50\n",
            "693/693 [==============================] - 4s 5ms/step - loss: 0.0937 - accuracy: 0.9659 - val_loss: 0.1069 - val_accuracy: 0.9626\n",
            "Epoch 9/50\n",
            "693/693 [==============================] - 3s 5ms/step - loss: 0.0911 - accuracy: 0.9657 - val_loss: 0.1063 - val_accuracy: 0.9635\n",
            "Epoch 10/50\n",
            "693/693 [==============================] - 3s 5ms/step - loss: 0.0871 - accuracy: 0.9672 - val_loss: 0.1114 - val_accuracy: 0.9614\n",
            "Epoch 11/50\n",
            "693/693 [==============================] - 3s 5ms/step - loss: 0.0825 - accuracy: 0.9686 - val_loss: 0.1114 - val_accuracy: 0.9614\n",
            "Epoch 12/50\n",
            "693/693 [==============================] - 3s 5ms/step - loss: 0.0802 - accuracy: 0.9694 - val_loss: 0.1081 - val_accuracy: 0.9626\n",
            "Epoch 13/50\n",
            "693/693 [==============================] - 4s 5ms/step - loss: 0.0754 - accuracy: 0.9710 - val_loss: 0.1120 - val_accuracy: 0.9605\n",
            "Epoch 14/50\n",
            "693/693 [==============================] - 3s 5ms/step - loss: 0.0722 - accuracy: 0.9722 - val_loss: 0.1224 - val_accuracy: 0.9583\n"
          ]
        }
      ],
      "source": [
        "#Fit the model with min batch size as 50 [can tune batch size to some factor of 2^power ] \n",
        "history = model.fit(X_train, y_train, validation_data=(X_val, y_val), callbacks=[callback], batch_size=32, epochs=50, verbose=1)"
      ],
      "id": "aa65f536-d875-4d42-8a39-55dd3692e7e9"
    },
    {
      "cell_type": "markdown",
      "source": [
        "### **Model Evaluation**"
      ],
      "metadata": {
        "id": "ivWwUJprU61p"
      },
      "id": "ivWwUJprU61p"
    },
    {
      "cell_type": "code",
      "execution_count": 28,
      "metadata": {
        "colab": {
          "base_uri": "https://localhost:8080/"
        },
        "id": "0c27771e-de9c-4dad-a383-86414493fb05",
        "outputId": "31e6c014-aff4-40c7-d6e9-9828721075a2"
      },
      "outputs": [
        {
          "output_type": "stream",
          "name": "stdout",
          "text": [
            "174/174 [==============================] - 1s 4ms/step - loss: 0.1224 - accuracy: 0.9583\n",
            "\n",
            " Val_Accuracy:- [0.12235527485609055, 0.9583032727241516]\n"
          ]
        }
      ],
      "source": [
        "accuracy = model.evaluate(X_val, y_val, verbose=1)\n",
        "print('\\n', 'Val_Accuracy:-', accuracy)"
      ],
      "id": "0c27771e-de9c-4dad-a383-86414493fb05"
    },
    {
      "cell_type": "code",
      "execution_count": 29,
      "metadata": {
        "id": "b3f2ba24-3e2a-4011-b026-11e48802bee4"
      },
      "outputs": [],
      "source": [
        "# predict crisp classes for test set\n",
        "yhat_classes = model.predict(X_val, verbose=0)"
      ],
      "id": "b3f2ba24-3e2a-4011-b026-11e48802bee4"
    },
    {
      "cell_type": "code",
      "execution_count": 30,
      "metadata": {
        "colab": {
          "base_uri": "https://localhost:8080/"
        },
        "id": "f2132d32-413c-443b-957b-67de56540b01",
        "outputId": "50653fb5-6776-43cc-f777-21a9e3310508"
      },
      "outputs": [
        {
          "output_type": "execute_result",
          "data": {
            "text/plain": [
              "array([1, 0, 1, ..., 1, 0, 0])"
            ]
          },
          "metadata": {},
          "execution_count": 30
        }
      ],
      "source": [
        "yhat_classes = np.argmax(yhat_classes, axis=1)\n",
        "yhat_classes"
      ],
      "id": "f2132d32-413c-443b-957b-67de56540b01"
    },
    {
      "cell_type": "code",
      "source": [
        "y_val = np.argmax(y_val, axis=1)\n",
        "y_val"
      ],
      "metadata": {
        "colab": {
          "base_uri": "https://localhost:8080/"
        },
        "id": "wL1uDy0yRbko",
        "outputId": "420592f0-dcbf-45d1-cf11-fe733dd43b24"
      },
      "id": "wL1uDy0yRbko",
      "execution_count": 31,
      "outputs": [
        {
          "output_type": "execute_result",
          "data": {
            "text/plain": [
              "array([1, 0, 1, ..., 1, 0, 0])"
            ]
          },
          "metadata": {},
          "execution_count": 31
        }
      ]
    },
    {
      "cell_type": "code",
      "execution_count": 32,
      "metadata": {
        "colab": {
          "base_uri": "https://localhost:8080/"
        },
        "id": "ed3062cc-00ff-4028-847f-4574281ead6a",
        "outputId": "0dddd2c2-86e0-4c40-da5d-d402f8a1471c"
      },
      "outputs": [
        {
          "output_type": "stream",
          "name": "stdout",
          "text": [
            "Accuracy: 0.958303, Precision: 0.958363, Recall: 0.958303, F1 score: 0.958280\n"
          ]
        }
      ],
      "source": [
        "\n",
        "# Accuracy\n",
        "accuracy = accuracy_score(y_val, yhat_classes)\n",
        "print('Accuracy: %f' % accuracy, end = \", \")\n",
        "\n",
        "# Precision tp / (tp + fp)\n",
        "precision = precision_score(y_val, yhat_classes, average = \"weighted\")\n",
        "print('Precision: %f' % precision, end = \", \")\n",
        "\n",
        "# Recall: tp / (tp + fn)\n",
        "recall = recall_score(y_val, yhat_classes, average = \"weighted\")\n",
        "print('Recall: %f' % recall, end = \", \")\n",
        "\n",
        "# F1: 2 tp / (2 tp + fp + fn)\n",
        "f1 = f1_score(y_val, yhat_classes, average = \"weighted\")\n",
        "print('F1 score: %f' % f1)"
      ],
      "id": "ed3062cc-00ff-4028-847f-4574281ead6a"
    },
    {
      "cell_type": "code",
      "execution_count": 33,
      "metadata": {
        "colab": {
          "base_uri": "https://localhost:8080/",
          "height": 339
        },
        "id": "696dd541-9558-41bb-ad2a-5b2b542eb61e",
        "outputId": "fffb1528-8ed3-4927-c49e-c3442c30813c"
      },
      "outputs": [
        {
          "output_type": "display_data",
          "data": {
            "text/plain": [
              "<Figure size 360x360 with 1 Axes>"
            ],
            "image/png": "[encoded data removed]"
          },
          "metadata": {}
        }
      ],
      "source": [
        "from mlxtend.plotting import plot_confusion_matrix\n",
        "fig, ax = plot_confusion_matrix(conf_mat=confusion_matrix(y_val, yhat_classes) ,  figsize=(5, 5))\n",
        "plt.show()"
      ],
      "id": "696dd541-9558-41bb-ad2a-5b2b542eb61e"
    },
    {
      "cell_type": "code",
      "execution_count": 34,
      "metadata": {
        "colab": {
          "base_uri": "https://localhost:8080/"
        },
        "id": "5b43e9d3-8bb0-4727-85d7-93238337fb0e",
        "outputId": "372e5b9f-9a7c-4acc-ee2a-39f38a6a9abe"
      },
      "outputs": [
        {
          "output_type": "stream",
          "name": "stdout",
          "text": [
            "              precision    recall  f1-score   support\n",
            "\n",
            "           0       0.96      0.95      0.95      2585\n",
            "           1       0.95      0.97      0.96      2955\n",
            "\n",
            "    accuracy                           0.96      5540\n",
            "   macro avg       0.96      0.96      0.96      5540\n",
            "weighted avg       0.96      0.96      0.96      5540\n",
            "\n"
          ]
        }
      ],
      "source": [
        "print(classification_report(y_val, yhat_classes))"
      ],
      "id": "5b43e9d3-8bb0-4727-85d7-93238337fb0e"
    },
    {
      "cell_type": "code",
      "execution_count": 35,
      "metadata": {
        "id": "82f22313-ef10-4ce6-8b99-a730580093b4"
      },
      "outputs": [],
      "source": [
        "#from keras.models import load_model\n",
        "model.save('/content/drive/MyDrive/CellScan/Malaria_cell_classifation.h5')"
      ],
      "id": "82f22313-ef10-4ce6-8b99-a730580093b4"
    },
    {
      "cell_type": "code",
      "execution_count": 35,
      "metadata": {
        "id": "8885ef68-063f-420f-b5f4-21ece3327c69"
      },
      "outputs": [],
      "source": [
        ""
      ],
      "id": "8885ef68-063f-420f-b5f4-21ece3327c69"
    },
    {
      "cell_type": "code",
      "execution_count": 36,
      "metadata": {
        "id": "14ee78cc-34e1-427c-9c75-16a5cc904555"
      },
      "outputs": [],
      "source": [
        "#from tensorflow.keras.models import load_model\n",
        "#model1 = tf.keras.models.load_model(\"/content/drive/MyDrive/CellScan/Malaria_cell_classifation.h5\")"
      ],
      "id": "14ee78cc-34e1-427c-9c75-16a5cc904555"
    },
    {
      "cell_type": "code",
      "execution_count": 37,
      "metadata": {
        "id": "dc46d78a-0f9f-4b05-9f7c-8822a6511e05",
        "colab": {
          "base_uri": "https://localhost:8080/",
          "height": 803
        },
        "outputId": "f94de9ae-9c63-4dbc-8069-236a503aaa7f"
      },
      "outputs": [
        {
          "output_type": "display_data",
          "data": {
            "text/plain": [
              "<Figure size 720x432 with 1 Axes>"
            ],
            "image/png": "[encoded data removed]"
          },
          "metadata": {}
        },
        {
          "output_type": "display_data",
          "data": {
            "text/plain": [
              "<Figure size 720x432 with 1 Axes>"
            ],
            "image/png": "[encoded data removed]"
          },
          "metadata": {}
        }
      ],
      "source": [
        "def visualize_training(history, lw = 3):\n",
        "    plt.figure(figsize=(10,6))\n",
        "    plt.plot(history.history['accuracy'], label = 'training', marker = '*', linewidth = lw)\n",
        "    plt.plot(history.history['val_accuracy'], label = 'validation', marker = 'o', linewidth = lw)\n",
        "    plt.title('Training Accuracy vs Validation Accuracy')\n",
        "    plt.xlabel('Epochs')\n",
        "    plt.ylabel('Accuracy')\n",
        "    plt.legend(fontsize = 'x-large')\n",
        "    plt.show()\n",
        "\n",
        "    plt.figure(figsize=(10,6))\n",
        "    plt.plot(history.history['loss'], label = 'training', marker = '*', linewidth = lw)\n",
        "    plt.plot(history.history['val_loss'], label = 'validation', marker = 'o', linewidth = lw)\n",
        "    plt.title('Training Loss vs Validation Loss')\n",
        "    plt.xlabel('Epochs')\n",
        "    plt.ylabel('Loss')\n",
        "    plt.legend(fontsize = 'x-large')\n",
        "    plt.show()\n",
        "visualize_training(history)"
      ],
      "id": "dc46d78a-0f9f-4b05-9f7c-8822a6511e05"
    },
    {
      "cell_type": "markdown",
      "source": [
        "### **Thanks for Viewing**"
      ],
      "metadata": {
        "id": "LpaS5nwXYO8K"
      },
      "id": "LpaS5nwXYO8K"
    }
  ],
  "metadata": {
    "accelerator": "GPU",
    "colab": {
      "collapsed_sections": [
        "NHwR5gtrUX8A",
        "99uOK6BkfJ97",
        "x0k3PB9aUay-",
        "ivWwUJprU61p"
      ],
      "name": "Malaria_Diagnosis.ipynb",
      "provenance": [],
      "include_colab_link": true
    },
    "gpuClass": "standard",
    "kernelspec": {
      "display_name": "Python 3 (ipykernel)",
      "language": "python",
      "name": "python3"
    },
    "language_info": {
      "codemirror_mode": {
        "name": "ipython",
        "version": 3
      },
      "file_extension": ".py",
      "mimetype": "text/x-python",
      "name": "python",
      "nbconvert_exporter": "python",
      "pygments_lexer": "ipython3",
      "version": "3.7.13"
    }
  },
  "nbformat": 4,
  "nbformat_minor": 5
}